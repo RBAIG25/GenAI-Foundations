{
 "cells": [
  {
   "cell_type": "markdown",
   "id": "64cfe083-602d-418e-9b47-4183e7143428",
   "metadata": {},
   "source": [
    "Basic Sentiment Analysis"
   ]
  },
  {
   "cell_type": "code",
   "execution_count": 1,
   "id": "4f564c8c-6b52-49fa-b354-c05d2574593d",
   "metadata": {
    "scrolled": true
   },
   "outputs": [
    {
     "name": "stderr",
     "output_type": "stream",
     "text": [
      "/Users/robbarto/Library/Python/3.9/lib/python/site-packages/urllib3/__init__.py:35: NotOpenSSLWarning: urllib3 v2 only supports OpenSSL 1.1.1+, currently the 'ssl' module is compiled with 'LibreSSL 2.8.3'. See: https://github.com/urllib3/urllib3/issues/3020\n",
      "  warnings.warn(\n",
      "2024-07-08 12:38:26.728418: I tensorflow/core/platform/cpu_feature_guard.cc:182] This TensorFlow binary is optimized to use available CPU instructions in performance-critical operations.\n",
      "To enable the following instructions: AVX2 AVX512F AVX512_VNNI FMA, in other operations, rebuild TensorFlow with the appropriate compiler flags.\n",
      "No model was supplied, defaulted to distilbert/distilbert-base-uncased-finetuned-sst-2-english and revision af0f99b (https://huggingface.co/distilbert/distilbert-base-uncased-finetuned-sst-2-english).\n",
      "Using a pipeline without specifying a model name and revision in production is not recommended.\n"
     ]
    },
    {
     "name": "stdout",
     "output_type": "stream",
     "text": [
      "Sentiment: NEGATIVE, Score: 0.9995912909507751\n"
     ]
    }
   ],
   "source": [
    "from transformers import pipeline\n",
    "\n",
    "# Load the sentiment analysis pipeline\n",
    "sentiment_analysis = pipeline(\"sentiment-analysis\")\n",
    "\n",
    "# Sample text for sentiment analysis\n",
    "text = \"Hockey is a boring sport that I really hate\"\n",
    "\n",
    "# Perform sentiment analysis\n",
    "results = sentiment_analysis(text)\n",
    "\n",
    "# Display the sentiment analysis results\n",
    "for result in results:\n",
    "    print(f\"Sentiment: {result['label']}, Score: {result['score']}\")\n"
   ]
  },
  {
   "cell_type": "markdown",
   "id": "8a45903b-b540-439c-bd2c-a843c584d07a",
   "metadata": {},
   "source": [
    "Multiple Prediction Example"
   ]
  },
  {
   "cell_type": "code",
   "execution_count": 2,
   "id": "f9feb703-a445-4ef3-ad60-da6156f92311",
   "metadata": {},
   "outputs": [
    {
     "name": "stderr",
     "output_type": "stream",
     "text": [
      "No model was supplied, defaulted to distilbert/distilbert-base-uncased-finetuned-sst-2-english and revision af0f99b (https://huggingface.co/distilbert/distilbert-base-uncased-finetuned-sst-2-english).\n",
      "Using a pipeline without specifying a model name and revision in production is not recommended.\n"
     ]
    },
    {
     "name": "stdout",
     "output_type": "stream",
     "text": [
      "Sentiment: POSITIVE, Score: 0.9998530149459839\n",
      "Sentiment: NEGATIVE, Score: 0.999762237071991\n",
      "Sentiment: NEGATIVE, Score: 0.9925423860549927\n",
      "Sentiment: POSITIVE, Score: 0.9998669624328613\n"
     ]
    }
   ],
   "source": [
    "from transformers import pipeline\n",
    "\n",
    "# Load the sentiment analysis pipeline\n",
    "sentiment_analysis = pipeline(\"sentiment-analysis\")\n",
    "\n",
    "# Sample text for sentiment analysis\n",
    "text = [\"It's fun to learn about AI\", \\\n",
    "        \"I'm tired today\", \\\n",
    "        \"The movie was okay, but not the best\",\\\n",
    "        \"This is awesome\"]\n",
    "\n",
    "# Perform sentiment analysis\n",
    "results = sentiment_analysis(text)\n",
    "\n",
    "# Display the sentiment analysis results\n",
    "for result in results:\n",
    "    print(f\"Sentiment: {result['label']}, Score: {result['score']}\")"
   ]
  },
  {
   "cell_type": "markdown",
   "id": "e73caebc-2b67-4a87-a173-a9c0220014b5",
   "metadata": {},
   "source": [
    "Emotional Probability Distribution"
   ]
  },
  {
   "cell_type": "code",
   "execution_count": 4,
   "id": "39d892fc-0f1b-4e60-b2bb-22bdaa7928a5",
   "metadata": {},
   "outputs": [
    {
     "name": "stdout",
     "output_type": "stream",
     "text": [
      "Label: desire, Score: 0.46681320667266846\n",
      "\n",
      "Label: disappointment, Score: 0.3308490216732025\n",
      "\n",
      "Label: annoyance, Score: 0.18453337252140045\n",
      "\n",
      "Label: disapproval, Score: 0.07362992316484451\n",
      "\n",
      "Label: neutral, Score: 0.05550174415111542\n",
      "\n",
      "Label: sadness, Score: 0.02859998494386673\n",
      "\n",
      "Label: disgust, Score: 0.027376214042305946\n",
      "\n",
      "Label: optimism, Score: 0.02310149557888508\n",
      "\n",
      "Label: anger, Score: 0.018679780885577202\n",
      "\n",
      "Label: realization, Score: 0.012172533199191093\n",
      "\n",
      "Label: approval, Score: 0.006305180490016937\n",
      "\n",
      "Label: love, Score: 0.005806395784020424\n",
      "\n",
      "Label: confusion, Score: 0.004556835629045963\n",
      "\n",
      "Label: amusement, Score: 0.004552136175334454\n",
      "\n",
      "Label: curiosity, Score: 0.004510584753006697\n",
      "\n",
      "Label: embarrassment, Score: 0.004485514014959335\n",
      "\n",
      "Label: admiration, Score: 0.004485179204493761\n",
      "\n",
      "Label: remorse, Score: 0.004312361590564251\n",
      "\n",
      "Label: excitement, Score: 0.0037685453426092863\n",
      "\n",
      "Label: joy, Score: 0.003649078542366624\n",
      "\n",
      "Label: nervousness, Score: 0.0033884255681186914\n",
      "\n",
      "Label: surprise, Score: 0.0033880327828228474\n",
      "\n",
      "Label: caring, Score: 0.0024243444204330444\n",
      "\n",
      "Label: fear, Score: 0.0021224995143711567\n",
      "\n",
      "Label: grief, Score: 0.0017208328936249018\n",
      "\n",
      "Label: gratitude, Score: 0.0013063387013971806\n",
      "\n",
      "Label: relief, Score: 0.0012121034087613225\n",
      "\n",
      "Label: pride, Score: 0.0009242045925930142\n",
      "\n"
     ]
    }
   ],
   "source": [
    "from transformers import pipeline\n",
    "\n",
    "classifier = pipeline(task=\"text-classification\", model=\"SamLowe/roberta-base-go_emotions\", top_k=None)\n",
    "\n",
    "sentences = [\"I find the olympics really boring I wish they would put something else on TV in the summer\"]\n",
    "\n",
    "model_outputs = classifier(sentences)\n",
    "\n",
    "# Print each output on a new line with a carriage return after each line\n",
    "for output in model_outputs[0]:\n",
    "    print(f\"Label: {output['label']}, Score: {output['score']}\\n\")\n"
   ]
  },
  {
   "cell_type": "code",
   "execution_count": null,
   "id": "fc2a2dd8-54d7-4996-bee1-00b8af22c0f6",
   "metadata": {},
   "outputs": [],
   "source": []
  }
 ],
 "metadata": {
  "kernelspec": {
   "display_name": "Python 3 (ipykernel)",
   "language": "python",
   "name": "python3"
  },
  "language_info": {
   "codemirror_mode": {
    "name": "ipython",
    "version": 3
   },
   "file_extension": ".py",
   "mimetype": "text/x-python",
   "name": "python",
   "nbconvert_exporter": "python",
   "pygments_lexer": "ipython3",
   "version": "3.9.6"
  }
 },
 "nbformat": 4,
 "nbformat_minor": 5
}
